{
 "cells": [
  {
   "metadata": {},
   "cell_type": "markdown",
   "source": "# Сравнение поисков",
   "id": "ae9376cae63dd89c"
  },
  {
   "metadata": {},
   "cell_type": "markdown",
   "source": "## Семантический поиск",
   "id": "9582fb6a7d9d30e2"
  },
  {
   "metadata": {
    "ExecuteTime": {
     "end_time": "2025-10-04T05:28:43.715145Z",
     "start_time": "2025-10-04T05:28:29.039124Z"
    }
   },
   "cell_type": "code",
   "source": [
    "from sentence_transformers import SentenceTransformer\n",
    "\n",
    "from app.adapters import FinamAPIClient"
   ],
   "id": "e66441513c910cd0",
   "outputs": [
    {
     "name": "stderr",
     "output_type": "stream",
     "text": [
      "/home/Artem/PycharmProjects/finam-x-hse-trade-ai-hack-trader/.venv/lib/python3.13/site-packages/tqdm/auto.py:21: TqdmWarning: IProgress not found. Please update jupyter and ipywidgets. See https://ipywidgets.readthedocs.io/en/stable/user_install.html\n",
      "  from .autonotebook import tqdm as notebook_tqdm\n"
     ]
    }
   ],
   "execution_count": 1
  },
  {
   "metadata": {
    "ExecuteTime": {
     "end_time": "2025-10-04T05:28:52.521318Z",
     "start_time": "2025-10-04T05:28:47.147433Z"
    }
   },
   "cell_type": "code",
   "source": "model = SentenceTransformer('sentence-transformers/paraphrase-multilingual-MiniLM-L12-v2')",
   "id": "2e06a519153d0f3",
   "outputs": [],
   "execution_count": 2
  },
  {
   "metadata": {
    "ExecuteTime": {
     "end_time": "2025-10-04T05:39:55.383108Z",
     "start_time": "2025-10-04T05:39:55.340454Z"
    }
   },
   "cell_type": "code",
   "source": [
    "encoded = model.encode(\n",
    "    [\"Tesla MOEX BLOCKED\", \"Сургнфгз\", \"Hyster-Yale, Inc.\"],\n",
    ")\n",
    "prompt = model.encode([\"тесла\"])\n",
    "sim = model.similarity(prompt, encoded)\n",
    "[float(s) for s in sim[0]]"
   ],
   "id": "e07c71afce87991d",
   "outputs": [
    {
     "data": {
      "text/plain": [
       "[0.06639043986797333, 0.7762218117713928, 0.31213197112083435]"
      ]
     },
     "execution_count": 15,
     "metadata": {},
     "output_type": "execute_result"
    }
   ],
   "execution_count": 15
  },
  {
   "metadata": {},
   "cell_type": "markdown",
   "source": "## Левенштейна",
   "id": "3fa7e445b4323f5"
  },
  {
   "metadata": {
    "ExecuteTime": {
     "end_time": "2025-10-04T05:59:54.369618Z",
     "start_time": "2025-10-04T05:59:54.284860Z"
    }
   },
   "cell_type": "code",
   "source": "import Levenshtein as lev",
   "id": "49d3e27f02f8d719",
   "outputs": [],
   "execution_count": 16
  },
  {
   "metadata": {
    "ExecuteTime": {
     "end_time": "2025-10-04T06:02:40.826118Z",
     "start_time": "2025-10-04T06:02:40.822846Z"
    }
   },
   "cell_type": "code",
   "source": "lev.ratio(\"tesla\", \"Tesla MOEX BLOCKED\".lower())",
   "id": "e08049fdedb62153",
   "outputs": [
    {
     "data": {
      "text/plain": [
       "0.4347826086956522"
      ]
     },
     "execution_count": 26,
     "metadata": {},
     "output_type": "execute_result"
    }
   ],
   "execution_count": 26
  },
  {
   "metadata": {
    "ExecuteTime": {
     "end_time": "2025-10-04T06:08:53.625112Z",
     "start_time": "2025-10-04T06:08:53.620804Z"
    }
   },
   "cell_type": "code",
   "source": "lev.ratio(\"аэрофлот\", \"аэрофлот\")",
   "id": "5a3025ee761fcc15",
   "outputs": [
    {
     "data": {
      "text/plain": [
       "1.0"
      ]
     },
     "execution_count": 28,
     "metadata": {},
     "output_type": "execute_result"
    }
   ],
   "execution_count": 28
  },
  {
   "metadata": {
    "ExecuteTime": {
     "end_time": "2025-10-04T06:12:40.013105Z",
     "start_time": "2025-10-04T06:12:40.007869Z"
    }
   },
   "cell_type": "code",
   "source": [
    "from rapidfuzz import fuzz\n",
    "\n",
    "eng_to_rus = {\n",
    "    'a': 'а', 'b': 'б', 'v': 'в', 'g': 'г', 'd': 'д', 'e': 'е', 'yo': 'ё',\n",
    "    'zh': 'ж', 'z': 'з', 'i': 'и', 'y': 'й', 'k': 'к', 'l': 'л', 'm': 'м',\n",
    "    'n': 'н', 'o': 'о', 'p': 'п', 'r': 'р', 's': 'с', 't': 'т', 'u': 'у',\n",
    "    'f': 'ф', 'h': 'х', 'kh': 'х', 'ts': 'ц', 'ch': 'ч', 'sh': 'ш',\n",
    "    'sch': 'щ', 'yu': 'ю', 'ya': 'я'\n",
    "}\n",
    "\n",
    "def translit_en_to_ru(text: str) -> str:\n",
    "    out = text.lower()\n",
    "    for en, ru in sorted(eng_to_rus.items(), key=lambda x: -len(x[0])):\n",
    "        out = out.replace(en, ru)\n",
    "    return out\n",
    "\n",
    "def normalize_company_name(name: str) -> str:\n",
    "    name = name.lower()\n",
    "    name = translit_en_to_ru(name)\n",
    "    return name.strip()\n",
    "\n",
    "def compare_names(name1: str, name2: str) -> float:\n",
    "    n1 = normalize_company_name(name1)\n",
    "    n2 = normalize_company_name(name2)\n",
    "    return fuzz.ratio(n1, n2)"
   ],
   "id": "89c9a2e4b5b91d46",
   "outputs": [],
   "execution_count": 29
  },
  {
   "metadata": {
    "ExecuteTime": {
     "end_time": "2025-10-04T06:13:00.660500Z",
     "start_time": "2025-10-04T06:13:00.657004Z"
    }
   },
   "cell_type": "code",
   "source": "compare_names(\"яндекс\", \"сбер\")",
   "id": "d6be922eb337091a",
   "outputs": [
    {
     "data": {
      "text/plain": [
       "19.999999999999996"
      ]
     },
     "execution_count": 31,
     "metadata": {},
     "output_type": "execute_result"
    }
   ],
   "execution_count": 31
  }
 ],
 "metadata": {
  "kernelspec": {
   "display_name": "Python 3",
   "language": "python",
   "name": "python3"
  },
  "language_info": {
   "codemirror_mode": {
    "name": "ipython",
    "version": 2
   },
   "file_extension": ".py",
   "mimetype": "text/x-python",
   "name": "python",
   "nbconvert_exporter": "python",
   "pygments_lexer": "ipython2",
   "version": "2.7.6"
  }
 },
 "nbformat": 4,
 "nbformat_minor": 5
}
